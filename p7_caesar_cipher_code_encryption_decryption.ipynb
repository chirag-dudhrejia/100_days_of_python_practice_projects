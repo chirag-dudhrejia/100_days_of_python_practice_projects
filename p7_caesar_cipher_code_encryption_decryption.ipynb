{
 "cells": [
  {
   "cell_type": "code",
   "execution_count": 1,
   "id": "4108df2b",
   "metadata": {},
   "outputs": [],
   "source": [
    "alphabet = ['a', 'b', 'c', 'd', 'e', 'f', 'g', 'h', 'i', 'j', 'k', 'l', 'm', 'n', 'o', 'p', 'q', 'r', 's', 't', 'u', 'v', 'w', 'x', 'y', 'z', 'a', 'b', 'c', 'd', 'e', 'f', 'g', 'h', 'i', 'j', 'k', 'l', 'm', 'n', 'o', 'p', 'q', 'r', 's', 't', 'u', 'v', 'w', 'x', 'y', 'z']"
   ]
  },
  {
   "cell_type": "code",
   "execution_count": 2,
   "id": "6abbddc9",
   "metadata": {},
   "outputs": [],
   "source": [
    "def cipher_code(user_text, shift, cipher_task):\n",
    "    new_text = \"\"\n",
    "    \n",
    "    if shift>26:\n",
    "        shift %= 26\n",
    "    \n",
    "    if cipher_task == \"decode\":\n",
    "        shift *= -1\n",
    "    for letter in user_text:\n",
    "        if letter not in alphabet:\n",
    "            new_text += letter\n",
    "        else:\n",
    "            position = alphabet.index(letter)\n",
    "            new_text += alphabet[position+shift]\n",
    "            \n",
    "    print(f\"\\nThe {cipher_task} text is {new_text}.\")"
   ]
  },
  {
   "cell_type": "code",
   "execution_count": 3,
   "id": "4197078e",
   "metadata": {},
   "outputs": [
    {
     "name": "stdout",
     "output_type": "stream",
     "text": [
      "Type 'encode' to encrypt, type 'decode' to decrypt.\n",
      "trupti\n",
      "\n",
      "Want to continue again, type 'yes' or 'no'.\n",
      "yes\n",
      "Type 'encode' to encrypt, type 'decode' to decrypt.\n",
      "encode\n",
      "\n",
      "Enter text to encrypt.\n",
      "Trupti\n",
      "Enter number of positions to shift.\n",
      "5\n",
      "\n",
      "The encode text is ywzuyn.\n",
      "\n",
      "Want to continue again, type 'yes' or 'no'.\n",
      "\n"
     ]
    }
   ],
   "source": [
    "text = \"\"\n",
    "shift = 0\n",
    "condition = \"yes\"\n",
    "\n",
    "while condition == \"yes\":\n",
    "    task = input(\"Type 'encode' to encrypt, type 'decode' to decrypt.\\n\").casefold()\n",
    "    \n",
    "    if task == \"encode\":\n",
    "        text = input(f\"\\nEnter text to encrypt.\\n\").casefold()\n",
    "        shift = int(input(\"Enter number of positions to shift.\\n\"))\n",
    "        text = cipher_code(text, shift, task)\n",
    "    elif task == \"decode\":\n",
    "        text = input(f\"\\nEnter text to decrypt.\\n\").casefold()\n",
    "        shift = int(input(\"Enter number of positions to shift.\\n\"))\n",
    "        text = cipher_code(text, shift, task)\n",
    "        \n",
    "    condition = input(\"\\nWant to continue again, type 'yes' or 'no'.\\n\")"
   ]
  },
  {
   "cell_type": "code",
   "execution_count": null,
   "id": "cb6a17c7",
   "metadata": {},
   "outputs": [],
   "source": []
  }
 ],
 "metadata": {
  "kernelspec": {
   "display_name": "Python 3 (ipykernel)",
   "language": "python",
   "name": "python3"
  },
  "language_info": {
   "codemirror_mode": {
    "name": "ipython",
    "version": 3
   },
   "file_extension": ".py",
   "mimetype": "text/x-python",
   "name": "python",
   "nbconvert_exporter": "python",
   "pygments_lexer": "ipython3",
   "version": "3.11.4"
  }
 },
 "nbformat": 4,
 "nbformat_minor": 5
}
