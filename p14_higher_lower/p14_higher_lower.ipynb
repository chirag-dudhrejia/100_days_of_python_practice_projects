{
 "cells": [
  {
   "cell_type": "code",
   "execution_count": 1,
   "id": "db19bb60",
   "metadata": {},
   "outputs": [],
   "source": [
    "import random\n",
    "from data_list import data\n",
    "from logo import logo,vs"
   ]
  },
  {
   "cell_type": "code",
   "execution_count": 2,
   "id": "8cf15e51",
   "metadata": {},
   "outputs": [],
   "source": [
    "def get_account():\n",
    "    return random.choice(data)"
   ]
  },
  {
   "cell_type": "code",
   "execution_count": 3,
   "id": "ff03a3f5",
   "metadata": {},
   "outputs": [],
   "source": [
    "def check_guess(guess, acc1, acc2):\n",
    "    if acc1[\"follower_count\"]>acc2[\"follower_count\"]:\n",
    "        return guess == 'a'\n",
    "    else:\n",
    "        return guess == 'b'"
   ]
  },
  {
   "cell_type": "code",
   "execution_count": 4,
   "id": "ad08ea33",
   "metadata": {},
   "outputs": [],
   "source": [
    "def format_output(acc):\n",
    "    name = acc[\"name\"]\n",
    "    description = acc[\"description\"]\n",
    "    country = acc[\"country\"]\n",
    "    return f\"{name}, a {description} from {country}\""
   ]
  },
  {
   "cell_type": "code",
   "execution_count": 5,
   "id": "f1fb5e5c",
   "metadata": {},
   "outputs": [],
   "source": [
    "def game():\n",
    "    score = 0\n",
    "    Continue = True\n",
    "    account1 = get_account()\n",
    "    account2 = get_account()\n",
    "    print(logo)\n",
    "    \n",
    "    while(Continue):\n",
    "        account1 = account2\n",
    "        \n",
    "        while(account1 == account2):\n",
    "            account2 = get_account()\n",
    "            \n",
    "        print(f\"\\nCompare A : {format_output(account1)}\")\n",
    "        print(vs)\n",
    "        print(f\"Compare B : {format_output(account2)}\")\n",
    "        \n",
    "        guess = input(f\"Who has more followers? : type 'A' Or 'B' : \").lower()\n",
    "        is_correct = check_guess(guess, account1, account2)\n",
    "        \n",
    "        if is_correct:\n",
    "            score += 1\n",
    "            \n",
    "            print(f\"\\nYou're right, current score {score}\")\n",
    "        else:\n",
    "            print(f\"\\nBetter luck next time, final score {score}\")\n",
    "            break"
   ]
  },
  {
   "cell_type": "code",
   "execution_count": 6,
   "id": "1c2f7002",
   "metadata": {},
   "outputs": [
    {
     "name": "stdout",
     "output_type": "stream",
     "text": [
      "\n",
      "    __  ___       __             \n",
      "   / / / (_)___ _/ /_  ___  _____\n",
      "  / /_/ / / __ `/ __ \\/ _ \\/ ___/\n",
      " / __  / / /_/ / / / /  __/ /    \n",
      "/_/ ///_/\\__, /_/ /_/\\___/_/     \n",
      "   / /  /____/_      _____  _____\n",
      "  / /   / __ \\ | /| / / _ \\/ ___/\n",
      " / /___/ /_/ / |/ |/ /  __/ /    \n",
      "/_____/\\____/|__/|__/\\___/_/     \n",
      "\n",
      "\n",
      "Compare A : NASA, a Space agency from United States\n",
      "\n",
      " _    __    \n",
      "| |  / /____\n",
      "| | / / ___/\n",
      "| |/ (__  ) \n",
      "|___/____(_)\n",
      "\n",
      "Compare B : Victoria's Secret, a Lingerie brand from United States\n",
      "Who has more followers? : type 'A' Or 'B' : a\n",
      "\n",
      "Better luck next time, final score 0\n"
     ]
    }
   ],
   "source": [
    "game()"
   ]
  },
  {
   "cell_type": "code",
   "execution_count": null,
   "id": "29513694",
   "metadata": {},
   "outputs": [],
   "source": []
  }
 ],
 "metadata": {
  "kernelspec": {
   "display_name": "Python 3 (ipykernel)",
   "language": "python",
   "name": "python3"
  },
  "language_info": {
   "codemirror_mode": {
    "name": "ipython",
    "version": 3
   },
   "file_extension": ".py",
   "mimetype": "text/x-python",
   "name": "python",
   "nbconvert_exporter": "python",
   "pygments_lexer": "ipython3",
   "version": "3.11.4"
  }
 },
 "nbformat": 4,
 "nbformat_minor": 5
}
