{
 "cells": [
  {
   "cell_type": "markdown",
   "id": "58209df1",
   "metadata": {},
   "source": [
    "### Function to generate password"
   ]
  },
  {
   "cell_type": "code",
   "execution_count": 9,
   "id": "156b66a3",
   "metadata": {},
   "outputs": [],
   "source": [
    "import random\n",
    "\n",
    "def generator(letters, numbers, symbols, num_of_letters, num_of_symbols, num_of_numbers):\n",
    "    password_list = []\n",
    "\n",
    "    for char in range(1, num_of_letters+1):\n",
    "        password_list.append(random.choice(letters))\n",
    "    for symbol in range(1, num_of_symbols+1):\n",
    "        password_list.append(random.choice(symbols))\n",
    "    for number in range(1, num_of_numbers+1):\n",
    "        password_list.append(random.choice(numbers))\n",
    "        \n",
    "    return password_list\n",
    "\n"
   ]
  },
  {
   "cell_type": "markdown",
   "id": "99d38303",
   "metadata": {},
   "source": [
    "### Function to shuffle letters to random"
   ]
  },
  {
   "cell_type": "code",
   "execution_count": 10,
   "id": "24779f35",
   "metadata": {},
   "outputs": [],
   "source": [
    "def shuffle(password):\n",
    "    random.shuffle(password)\n",
    "    return password\n",
    "\n"
   ]
  },
  {
   "cell_type": "code",
   "execution_count": 11,
   "id": "aaa73faf",
   "metadata": {},
   "outputs": [],
   "source": [
    "def to_string(password):\n",
    "    pass_str = \"\"\n",
    "    for element in password:\n",
    "        pass_str += element\n",
    "    return pass_str\n",
    "\n"
   ]
  },
  {
   "cell_type": "markdown",
   "id": "28ab11a2",
   "metadata": {},
   "source": [
    "### Characters to be used in password"
   ]
  },
  {
   "cell_type": "code",
   "execution_count": 12,
   "id": "2b94911c",
   "metadata": {},
   "outputs": [],
   "source": [
    "letters = ['a', 'b', 'c', 'd', 'e', 'f', 'g', 'h', 'i', 'j', 'k', 'l', 'm', 'n', 'o', 'p', 'q', 'r', 's', 't', 'u', 'v', 'w', 'x', 'y', 'z', 'A', 'B', 'C', 'D', 'E', 'F', 'G', 'H', 'I', 'J', 'K', 'L', 'M', 'N', 'O', 'P', 'Q', 'R', 'S', 'T', 'U', 'V', 'W', 'X', 'Y', 'Z']\n",
    "numbers = ['0', '1', '2', '3', '4', '5', '6', '7', '8', '9']\n",
    "symbols = ['!', '#', '$', '%', '&', '(', ')', '*', '+']\n"
   ]
  },
  {
   "cell_type": "markdown",
   "id": "8f68cc3b",
   "metadata": {},
   "source": [
    "### Input regarding password needed"
   ]
  },
  {
   "cell_type": "code",
   "execution_count": 13,
   "id": "abc8d672",
   "metadata": {},
   "outputs": [
    {
     "name": "stdout",
     "output_type": "stream",
     "text": [
      "Enter number of letters in password : 10\n",
      "Enter number of symbol in password : 3\n",
      "Enter number of numbers in password : 2\n"
     ]
    }
   ],
   "source": [
    "number_of_letters = int(input(\"Enter number of letters in password : \"))\n",
    "number_of_symbols = int(input(\"Enter number of symbol in password : \"))\n",
    "number_of_numbers = int(input(\"Enter number of numbers in password : \"))\n"
   ]
  },
  {
   "cell_type": "markdown",
   "id": "c9ceed13",
   "metadata": {},
   "source": [
    "### Calling functions and printing output"
   ]
  },
  {
   "cell_type": "code",
   "execution_count": 14,
   "id": "60a29639",
   "metadata": {},
   "outputs": [
    {
     "name": "stdout",
     "output_type": "stream",
     "text": [
      "\n",
      "Here is strong and secure password : %0Wf$2ncLf(XSjh\n"
     ]
    }
   ],
   "source": [
    "password_list = generator(letters, numbers, symbols, number_of_letters, number_of_symbols, number_of_numbers)\n",
    "\n",
    "password_list = shuffle(password_list)\n",
    "\n",
    "password = \"\"\n",
    "password = to_string(password_list)\n",
    "\n",
    "print(f\"\\nHere is strong and secure password : {password}\")"
   ]
  }
 ],
 "metadata": {
  "kernelspec": {
   "display_name": "Python 3 (ipykernel)",
   "language": "python",
   "name": "python3"
  },
  "language_info": {
   "codemirror_mode": {
    "name": "ipython",
    "version": 3
   },
   "file_extension": ".py",
   "mimetype": "text/x-python",
   "name": "python",
   "nbconvert_exporter": "python",
   "pygments_lexer": "ipython3",
   "version": "3.11.4"
  }
 },
 "nbformat": 4,
 "nbformat_minor": 5
}
