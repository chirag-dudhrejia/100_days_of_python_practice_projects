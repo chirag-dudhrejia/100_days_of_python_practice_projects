{
 "cells": [
  {
   "cell_type": "code",
   "execution_count": 2,
   "id": "0029df9a",
   "metadata": {},
   "outputs": [],
   "source": [
    "import random\n",
    "\n",
    "def guessing_number(drawn_number, attempts):\n",
    "    while attempts > 0:\n",
    "        print(f\"\\nYou have {attempts} attempts to guess the number.\")\n",
    "        player_guess = int(input(\"Make a guess : \"))\n",
    "        \n",
    "        if player_guess == drawn_number:\n",
    "            print(f\"You got it, Number is {drawn_number}.\")\n",
    "            break\n",
    "        elif player_guess > drawn_number:\n",
    "            print(\"Too High.\\nGuess again.\")\n",
    "        elif player_guess < drawn_number:\n",
    "            print(\"Too Low.\\nGuess again.\")\n",
    "        attempts -= 1\n",
    "    print(\"You have run out of guesses, You lose.\")"
   ]
  },
  {
   "cell_type": "code",
   "execution_count": null,
   "id": "bd72db0a",
   "metadata": {},
   "outputs": [
    {
     "name": "stdout",
     "output_type": "stream",
     "text": [
      "Welcome To The Number Guessing Game\n",
      "Choose a difficulty, type 'easy' or 'hard'. : hard\n",
      "\n",
      "You have 5 attempts to guess the number.\n",
      "Make a guess : 51\n",
      "Too Low.\n",
      "Guess again.\n",
      "\n",
      "You have 4 attempts to guess the number.\n",
      "Make a guess : 26\n",
      "Too Low.\n",
      "Guess again.\n",
      "\n",
      "You have 3 attempts to guess the number.\n",
      "Make a guess : 48\n",
      "Too Low.\n",
      "Guess again.\n",
      "\n",
      "You have 2 attempts to guess the number.\n",
      "Make a guess : 100\n",
      "Too High.\n",
      "Guess again.\n",
      "\n",
      "You have 1 attempts to guess the number.\n",
      "Make a guess : 99\n",
      "Too High.\n",
      "Guess again.\n",
      "You have run out of guesses, You lose.\n",
      "Want to continue playing? type 'yes' or 'no'. : yes\n",
      "Choose a difficulty, type 'easy' or 'hard'. : 88\n",
      "Want to continue playing? type 'yes' or 'no'. : yes\n",
      "Choose a difficulty, type 'easy' or 'hard'. : easy\n",
      "\n",
      "You have 10 attempts to guess the number.\n",
      "Make a guess : 88\n",
      "Too Low.\n",
      "Guess again.\n",
      "\n",
      "You have 9 attempts to guess the number.\n",
      "Make a guess : 98\n",
      "Too High.\n",
      "Guess again.\n",
      "\n",
      "You have 8 attempts to guess the number.\n",
      "Make a guess : 95\n",
      "Too High.\n",
      "Guess again.\n",
      "\n",
      "You have 7 attempts to guess the number.\n"
     ]
    }
   ],
   "source": [
    "print(\"Welcome to the number guessing game\".title())\n",
    "\n",
    "is_continue = True\n",
    "while is_continue:\n",
    "    drawn_number = random.randint(1, 100)\n",
    "    difficulty = input(\"Choose a difficulty, type 'easy' or 'hard'. : \")\n",
    "    if difficulty == \"easy\":\n",
    "        guessing_number(drawn_number, 10)\n",
    "    elif difficulty == \"hard\":\n",
    "        guessing_number(drawn_number, 5)\n",
    "    \n",
    "    if input(\"Want to continue playing? type 'yes' or 'no'. : \") != \"yes\":\n",
    "        is_continue = False"
   ]
  },
  {
   "cell_type": "code",
   "execution_count": null,
   "id": "cd11d788",
   "metadata": {},
   "outputs": [],
   "source": []
  }
 ],
 "metadata": {
  "kernelspec": {
   "display_name": "Python 3 (ipykernel)",
   "language": "python",
   "name": "python3"
  },
  "language_info": {
   "codemirror_mode": {
    "name": "ipython",
    "version": 3
   },
   "file_extension": ".py",
   "mimetype": "text/x-python",
   "name": "python",
   "nbconvert_exporter": "python",
   "pygments_lexer": "ipython3",
   "version": "3.11.4"
  }
 },
 "nbformat": 4,
 "nbformat_minor": 5
}
