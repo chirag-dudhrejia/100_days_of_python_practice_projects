{
 "cells": [
  {
   "cell_type": "code",
   "execution_count": 1,
   "id": "0d193981",
   "metadata": {},
   "outputs": [],
   "source": [
    "def add(num1, num2):\n",
    "    return num1 + num2"
   ]
  },
  {
   "cell_type": "code",
   "execution_count": 2,
   "id": "3b78405a",
   "metadata": {},
   "outputs": [],
   "source": [
    "def substract(num1, num2):\n",
    "    return num1 - num2"
   ]
  },
  {
   "cell_type": "code",
   "execution_count": 3,
   "id": "5b66a4f3",
   "metadata": {},
   "outputs": [],
   "source": [
    "def multiply(num1, num2):\n",
    "    return num1 * num2"
   ]
  },
  {
   "cell_type": "code",
   "execution_count": 7,
   "id": "cdd9cc30",
   "metadata": {},
   "outputs": [],
   "source": [
    "def division(num1, num2):\n",
    "    return num1 / num2"
   ]
  },
  {
   "cell_type": "code",
   "execution_count": 6,
   "id": "ca809897",
   "metadata": {},
   "outputs": [
    {
     "name": "stdout",
     "output_type": "stream",
     "text": [
      "What is the first number? 2.5\n",
      "+\n",
      "-\n",
      "/\n",
      "*\n",
      "Pick an operation from above : *\n",
      "what is the second number? 4\n",
      "Type 'y' to continue calculating with 10.0 or type 'n' to start new calculation or 0 (zero) to exit : n\n",
      "What is the first number? 10\n",
      "+\n",
      "-\n",
      "/\n",
      "*\n",
      "Pick an operation from above : /\n",
      "what is the second number? 2.5\n",
      "Type 'y' to continue calculating with 4.0 or type 'n' to start new calculation or 0 (zero) to exit : 0\n"
     ]
    }
   ],
   "source": [
    "is_continue = True\n",
    "operations = {\n",
    "    \"+\":add,\n",
    "    \"-\":substract,\n",
    "    \"/\":division,\n",
    "    \"*\":multiply\n",
    "}\n",
    "while is_continue:\n",
    "    keep_calculating = True\n",
    "    number1 = float(input(\"What is the first number? \"))\n",
    "    while keep_calculating:\n",
    "        operator = input(\"+\\n-\\n/\\n*\\nPick an operation from above : \")\n",
    "\n",
    "        number2 = float(input(\"what is the second number? \"))\n",
    "        \n",
    "        function = operations[operator]\n",
    "        \n",
    "        number1 = function(number1, number2)\n",
    "        \n",
    "        cont = input(f\"Type 'y' to continue calculating with {number1} or type 'n' to start new calculation or 0 (zero) to exit : \")\n",
    "        if  cont == 'n':\n",
    "            keep_calculating = False\n",
    "        elif cont == '0':\n",
    "            keep_calculating = False\n",
    "            is_continue = False"
   ]
  },
  {
   "cell_type": "code",
   "execution_count": null,
   "id": "648b6c6e",
   "metadata": {},
   "outputs": [],
   "source": []
  }
 ],
 "metadata": {
  "kernelspec": {
   "display_name": "Python 3 (ipykernel)",
   "language": "python",
   "name": "python3"
  },
  "language_info": {
   "codemirror_mode": {
    "name": "ipython",
    "version": 3
   },
   "file_extension": ".py",
   "mimetype": "text/x-python",
   "name": "python",
   "nbconvert_exporter": "python",
   "pygments_lexer": "ipython3",
   "version": "3.11.4"
  }
 },
 "nbformat": 4,
 "nbformat_minor": 5
}
