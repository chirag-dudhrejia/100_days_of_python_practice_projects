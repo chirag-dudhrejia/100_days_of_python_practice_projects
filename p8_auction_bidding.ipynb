{
 "cells": [
  {
   "cell_type": "code",
   "execution_count": 1,
   "id": "4cd4edd1",
   "metadata": {},
   "outputs": [],
   "source": [
    "import os\n",
    "\n",
    "def bid(bidders):\n",
    "    continue_bid = \"yes\"\n",
    "    maxx = 0\n",
    "    while continue_bid == \"yes\":\n",
    "        name = input(\"\\nWhat is your name? : \")\n",
    "        bidders[name] = int(input(\"What is your bid? : ₹\"))\n",
    "        \n",
    "        if bidders[name] > maxx:\n",
    "            maxx = bidders[name]\n",
    "            max_name = name\n",
    "        \n",
    "        continue_bid = input(\"Are there any other bidders? type 'yes' or 'no'.\")\n",
    "        os.system('cls')\n",
    "    return max_name\n"
   ]
  },
  {
   "cell_type": "code",
   "execution_count": 2,
   "id": "0b753e80",
   "metadata": {},
   "outputs": [],
   "source": [
    "logo = '''\n",
    "                         ___________\n",
    "                         \\         /\n",
    "                          )_______(\n",
    "                          |\"\"\"\"\"\"\"|_.-._,.---------.,_.-._\n",
    "                          |       | | |               | | ''-.\n",
    "                          |       |_| |_             _| |_..-'\n",
    "                          |_______| '-' `'---------'` '-'\n",
    "                          )\"\"\"\"\"\"\"(\n",
    "                         /_________\\\\\n",
    "                       .-------------.\n",
    "                      /_______________\\\\\n",
    "'''"
   ]
  },
  {
   "cell_type": "code",
   "execution_count": 3,
   "id": "e0bcffe2",
   "metadata": {},
   "outputs": [
    {
     "name": "stdout",
     "output_type": "stream",
     "text": [
      "\n",
      "                         ___________\n",
      "                         \\         /\n",
      "                          )_______(\n",
      "                          |\"\"\"\"\"\"\"|_.-._,.---------.,_.-._\n",
      "                          |       | | |               | | ''-.\n",
      "                          |       |_| |_             _| |_..-'\n",
      "                          |_______| '-' `'---------'` '-'\n",
      "                          )\"\"\"\"\"\"\"(\n",
      "                         /_________\\\n",
      "                       .-------------.\n",
      "                      /_______________\\\n",
      "\n",
      "Welcome to secret auction program.\n"
     ]
    }
   ],
   "source": [
    "# Driver Code\n",
    "bidders = {}\n",
    "\n",
    "print(logo)\n",
    "print(\"Welcome to secret auction program.\")\n"
   ]
  },
  {
   "cell_type": "code",
   "execution_count": 4,
   "id": "97b1f282",
   "metadata": {},
   "outputs": [
    {
     "name": "stdout",
     "output_type": "stream",
     "text": [
      "\n",
      "What is your name? : chirag\n",
      "What is your bid? : ₹5000\n",
      "Are there any other bidders? type 'yes' or 'no'.yes\n",
      "\n",
      "What is your name? : rohan\n",
      "What is your bid? : ₹10000\n",
      "Are there any other bidders? type 'yes' or 'no'.yes\n",
      "\n",
      "What is your name? : chintan\n",
      "What is your bid? : ₹3000\n",
      "Are there any other bidders? type 'yes' or 'no'.yes\n",
      "\n",
      "What is your name? : jigar\n",
      "What is your bid? : ₹6000\n",
      "Are there any other bidders? type 'yes' or 'no'.yes\n",
      "\n",
      "What is your name? : yash\n",
      "What is your bid? : ₹7000\n",
      "Are there any other bidders? type 'yes' or 'no'.no\n",
      "\n",
      "The winner is rohan with highest bid 10000.\n"
     ]
    }
   ],
   "source": [
    "name = bid(bidders)\n",
    "\n",
    "print(f\"\\nThe winner is {name} with highest bid {bidders[name]}.\")"
   ]
  },
  {
   "cell_type": "code",
   "execution_count": null,
   "id": "de51ae63",
   "metadata": {},
   "outputs": [],
   "source": []
  }
 ],
 "metadata": {
  "kernelspec": {
   "display_name": "Python 3 (ipykernel)",
   "language": "python",
   "name": "python3"
  },
  "language_info": {
   "codemirror_mode": {
    "name": "ipython",
    "version": 3
   },
   "file_extension": ".py",
   "mimetype": "text/x-python",
   "name": "python",
   "nbconvert_exporter": "python",
   "pygments_lexer": "ipython3",
   "version": "3.11.4"
  }
 },
 "nbformat": 4,
 "nbformat_minor": 5
}
