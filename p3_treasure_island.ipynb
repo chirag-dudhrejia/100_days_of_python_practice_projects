{
 "cells": [
  {
   "cell_type": "code",
   "execution_count": null,
   "id": "4b61fdb4",
   "metadata": {},
   "outputs": [
    {
     "name": "stdout",
     "output_type": "stream",
     "text": [
      "Enter name here : momo\n",
      "Hello momo! Welcome to treasure island.\n",
      "You are at crossroad want to go Left or Right? Type 'Left' 'RIght' : left\n",
      "You came at a lake, there is an island in the middle of the lake. Type 'wait' to wait for boat or type swim to swim across\n",
      "wait\n",
      "You arrived at the island unharmed. There is a house with 3 doors one red one yellow one blue. Which colour do you choose?\n"
     ]
    }
   ],
   "source": [
    "name = input(\"Enter name here : \")\n",
    "print(f\"Hello {name}! Welcome to treasure island.\")\n",
    "direction = input(\"You are at crossroad want to go Left or Right? Type 'Left' 'RIght' : \").lower()\n",
    "if direction == \"left\":\n",
    "    print(\"You came at a lake, there is an island in the middle of the lake. Type 'wait' to wait for boat or type swim to swim across\")\n",
    "    decision = input().lower()\n",
    "    if decision == \"wait\":\n",
    "        print(\"You arrived at the island unharmed. There is a house with 3 doors one red one yellow one blue. Which colour do you choose?\")\n",
    "        choose_colour = input().lower()\n",
    "        if choose_colour == \"blue\":\n",
    "            print(\"Congrats! You Win\")\n",
    "        else:\n",
    "            print(\"Game Over!\")\n",
    "    else:\n",
    "            print(\"Game Over!\")\n",
    "else:\n",
    "            print(\"Game Over!\")\n",
    "            "
   ]
  },
  {
   "cell_type": "code",
   "execution_count": null,
   "id": "0b69a694",
   "metadata": {},
   "outputs": [],
   "source": []
  },
  {
   "cell_type": "code",
   "execution_count": null,
   "id": "d73e336c",
   "metadata": {},
   "outputs": [],
   "source": []
  }
 ],
 "metadata": {
  "kernelspec": {
   "display_name": "Python 3 (ipykernel)",
   "language": "python",
   "name": "python3"
  },
  "language_info": {
   "codemirror_mode": {
    "name": "ipython",
    "version": 3
   },
   "file_extension": ".py",
   "mimetype": "text/x-python",
   "name": "python",
   "nbconvert_exporter": "python",
   "pygments_lexer": "ipython3",
   "version": "3.11.4"
  }
 },
 "nbformat": 4,
 "nbformat_minor": 5
}
