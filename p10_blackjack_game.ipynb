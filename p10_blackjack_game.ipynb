{
 "cells": [
  {
   "cell_type": "code",
   "execution_count": 7,
   "id": "122b6587",
   "metadata": {},
   "outputs": [],
   "source": [
    "def take_cards(cards_list, n = 1):\n",
    "    for i in range(n):\n",
    "        random_card = random.choice(cards)\n",
    "        cards_list.append(random_card)"
   ]
  },
  {
   "cell_type": "code",
   "execution_count": 8,
   "id": "cd958a19",
   "metadata": {},
   "outputs": [],
   "source": [
    "def total_score(cards_list):\n",
    "    cards_t = 0\n",
    "    for i in range(len(cards_list)):\n",
    "        cards_t += cards_list[i]\n",
    "    return cards_t"
   ]
  },
  {
   "cell_type": "code",
   "execution_count": 9,
   "id": "9262817a",
   "metadata": {},
   "outputs": [],
   "source": [
    "def comp_turn(computer_cards, computer_total, player_total, cards_to_pick):\n",
    "    is_continue = True\n",
    "    if computer_total == 21:\n",
    "        return computer_total\n",
    "        \n",
    "    while is_continue and cards_to_pick > 0:\n",
    "        take_cards(computer_cards)\n",
    "        computer_total = total_score(computer_cards)\n",
    "    \n",
    "        if computer_total>=21 or computer_total>player_total:\n",
    "            is_continue = False\n",
    "        cards_to_pick -= 1\n",
    "    return computer_total"
   ]
  },
  {
   "cell_type": "code",
   "execution_count": 10,
   "id": "a110b0af",
   "metadata": {},
   "outputs": [],
   "source": [
    "def player_turn(player_cards, player_total, computer_cards):\n",
    "    is_continue = True\n",
    "    while is_continue:\n",
    "        print(f\"\\nYour cards : {player_cards}, current score : {player_total}.\")\n",
    "        print(f\"Computer's first card : {computer_cards[0]}.\")\n",
    "    \n",
    "        pick_another_card = input(\" Type 'y' to get another card, type 'n' to pass : \")\n",
    "        \n",
    "        \n",
    "    \n",
    "        if pick_another_card == 'y':\n",
    "            take_cards(player_cards)\n",
    "            player_total = total_score(player_cards)\n",
    "        \n",
    "            if player_total>21:\n",
    "                is_continue = False\n",
    "        elif pick_another_card == 'n':\n",
    "            is_continue = False\n",
    "            \n",
    "    return player_total"
   ]
  },
  {
   "cell_type": "code",
   "execution_count": 14,
   "id": "33d17bfc",
   "metadata": {},
   "outputs": [],
   "source": [
    "def decide_game_winner(player_total, computer_total):\n",
    "    if player_total == 21 or computer_total == 21:\n",
    "        if player_total == 21:\n",
    "            print(\"BLACK JACK, You win.\")\n",
    "        if computer_total == 21:\n",
    "            print(\"BLACK JACK, You lose.\")\n",
    "    if player_total>21 or computer_total>21:\n",
    "        if player_total == computer_total:\n",
    "            print(\"Draw\")\n",
    "        elif player_total>21 and computer_total<22:\n",
    "            print(\"You are busted, you lose.\")\n",
    "        elif player_total<22 and computer_total>21:\n",
    "            print(\"You Win.\")\n",
    "    elif player_total<22 and computer_total<22:\n",
    "        if player_total == computer_total:\n",
    "            print(\"Draw\")\n",
    "        elif player_total > computer_total:\n",
    "            print(\"You Win\")\n",
    "        elif player_total < computer_total:\n",
    "            print(\"You Lose\")"
   ]
  },
  {
   "cell_type": "code",
   "execution_count": 15,
   "id": "14b2a662",
   "metadata": {},
   "outputs": [
    {
     "name": "stdout",
     "output_type": "stream",
     "text": [
      "\n",
      "Your cards : [10, 10], current score : 20.\n",
      "Computer's first card : 11.\n",
      " Type 'y' to get another card, type 'n' to pass : n\n",
      "\n",
      "Your final hand : [10, 10], Final total : 20.\n",
      "Computer's final hand : [11, 10], Final total : 21.\n",
      "BLACK JACK, You lose.\n",
      "You Lose\n"
     ]
    }
   ],
   "source": [
    "import random\n",
    "cards = [11, 2, 3, 4, 5, 6, 7, 8, 9, 10, 10, 10, 10]\n",
    "\n",
    "player_cards = []\n",
    "computer_cards = []\n",
    "\n",
    "take_cards(player_cards, 2)\n",
    "take_cards(computer_cards,2)\n",
    "\n",
    "player_total = total_score(player_cards)\n",
    "computer_total  = total_score(computer_cards)\n",
    "\n",
    "player_total = player_turn(player_cards, player_total, computer_cards)\n",
    "    \n",
    "cards_to_pick = len(player_cards) - len(computer_cards)\n",
    "\n",
    "computer_total = comp_turn(computer_cards, computer_total, player_total, cards_to_pick)\n",
    "        \n",
    "print(f\"\\nYour final hand : {player_cards}, Final total : {player_total}.\")\n",
    "print(f\"Computer's final hand : {computer_cards}, Final total : {computer_total}.\")\n",
    "\n",
    "decide_game_winner(player_total, computer_total)        \n"
   ]
  },
  {
   "cell_type": "code",
   "execution_count": null,
   "id": "8d29d864",
   "metadata": {},
   "outputs": [],
   "source": []
  }
 ],
 "metadata": {
  "kernelspec": {
   "display_name": "Python 3 (ipykernel)",
   "language": "python",
   "name": "python3"
  },
  "language_info": {
   "codemirror_mode": {
    "name": "ipython",
    "version": 3
   },
   "file_extension": ".py",
   "mimetype": "text/x-python",
   "name": "python",
   "nbconvert_exporter": "python",
   "pygments_lexer": "ipython3",
   "version": "3.11.4"
  }
 },
 "nbformat": 4,
 "nbformat_minor": 5
}
