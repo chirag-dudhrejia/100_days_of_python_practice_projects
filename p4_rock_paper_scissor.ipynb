{
 "cells": [
  {
   "cell_type": "code",
   "execution_count": 12,
   "id": "34ff3e5f",
   "metadata": {},
   "outputs": [
    {
     "name": "stdout",
     "output_type": "stream",
     "text": [
      "What do you choose?\n",
      "0 for Rock\n",
      "1 for Paper\n",
      "2 for Scissor.\n",
      "2\n",
      "\n",
      "    _______\n",
      "---'   ____)____\n",
      "          ______)\n",
      "       __________)\n",
      "      (____)\n",
      "---.__(___)\n",
      "\n",
      "\n",
      "Computer Choose:\n",
      "\n",
      "    _______\n",
      "---'   ____)____\n",
      "          ______)\n",
      "          _______)\n",
      "         _______)\n",
      "---.__________)\n",
      "\n",
      "You Lose.\n"
     ]
    }
   ],
   "source": [
    "import random\n",
    "rock = '''\n",
    "    _______\n",
    "---'   ____)\n",
    "      (_____)\n",
    "      (_____)\n",
    "      (____)\n",
    "---.__(___)'''\n",
    "\n",
    "paper = '''\n",
    "    _______\n",
    "---'   ____)____\n",
    "          ______)\n",
    "          _______)\n",
    "         _______)\n",
    "---.__________)\n",
    "'''\n",
    "\n",
    "scissor = '''\n",
    "    _______\n",
    "---'   ____)____\n",
    "          ______)\n",
    "       __________)\n",
    "      (____)\n",
    "---.__(___)\n",
    "'''\n",
    "\n",
    "rps = [rock , paper , scissor]\n",
    "\n",
    "your_choice = int(input(\"What do you choose?\\n0 for Rock\\n1 for Paper\\n2 for Scissor.\\n\"))\n",
    "\n",
    "computer_choice = random.randint(0,2)\n",
    "\n",
    "if your_choice > 2:\n",
    "    print(\"Invalid choice\\n\\nYou Lose.\")\n",
    "elif your_choice == 0 and computer_choice == 1:\n",
    "    print(f\"{rock}\\n\\nComputer Choose:\\n{paper}\\nYou Lose.\")\n",
    "elif your_choice == 0 and computer_choice == 2:\n",
    "    print(f\"{rock}\\n\\nComputer Choose:\\n{scissor}\\nYou Win.\")\n",
    "elif your_choice == 1 and computer_choice == 0:\n",
    "    print(f\"{paper}\\n\\nComputer Choose:\\n{rock}\\nYou Win.\")\n",
    "elif your_choice == 1 and computer_choice == 2:\n",
    "    print(f\"{paper}\\n\\nComputer Choose:\\n{scissor}\\nYou Lose.\")\n",
    "elif your_choice == 2 and computer_choice == 0:\n",
    "    print(f\"{scissor}\\n\\nComputer Choose:\\n{rock}\\nYou Lose.\")\n",
    "elif your_choice == 2 and computer_choice == 1:\n",
    "    print(f\"{scissor}\\n\\nComputer Choose:\\n{paper}\\nYou Lose.\")\n",
    "else:\n",
    "    print(f\"{rps[your_choice]}\\n\\nComputer Choose:\\n{rps[your_choice]}\\nIt's Drow.\")\n"
   ]
  },
  {
   "cell_type": "code",
   "execution_count": null,
   "id": "3c7416b9",
   "metadata": {},
   "outputs": [],
   "source": []
  }
 ],
 "metadata": {
  "kernelspec": {
   "display_name": "Python 3 (ipykernel)",
   "language": "python",
   "name": "python3"
  },
  "language_info": {
   "codemirror_mode": {
    "name": "ipython",
    "version": 3
   },
   "file_extension": ".py",
   "mimetype": "text/x-python",
   "name": "python",
   "nbconvert_exporter": "python",
   "pygments_lexer": "ipython3",
   "version": "3.11.4"
  }
 },
 "nbformat": 4,
 "nbformat_minor": 5
}
